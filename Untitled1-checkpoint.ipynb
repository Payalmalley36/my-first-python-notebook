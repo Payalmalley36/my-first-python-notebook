{
 "cells": [
  {
   "cell_type": "code",
   "execution_count": 9,
   "id": "67533f2b-9ec1-4fd9-a3fc-734186fad4ed",
   "metadata": {},
   "outputs": [],
   "source": [
    "import numpy as np"
   ]
  },
  {
   "cell_type": "code",
   "execution_count": 10,
   "id": "40e51e20-ae11-4fe6-93bb-e1c88a723371",
   "metadata": {},
   "outputs": [
    {
     "data": {
      "text/plain": [
       "array([1, 2, 3, 4])"
      ]
     },
     "execution_count": 10,
     "metadata": {},
     "output_type": "execute_result"
    }
   ],
   "source": [
    "array = np.array([1,2,3,4])\n",
    "array"
   ]
  },
  {
   "cell_type": "code",
   "execution_count": 27,
   "id": "f8542466-041d-47cb-bc5e-ea8e2978f330",
   "metadata": {},
   "outputs": [
    {
     "data": {
      "text/plain": [
       "((4,), 1, dtype('int32'), 3, numpy.ndarray)"
      ]
     },
     "execution_count": 27,
     "metadata": {},
     "output_type": "execute_result"
    }
   ],
   "source": [
    "array.shape,array.ndim,array.dtype,a1.size,type(array)"
   ]
  },
  {
   "cell_type": "code",
   "execution_count": 12,
   "id": "b83d31b5-d147-44c3-b61e-c336bc70e562",
   "metadata": {},
   "outputs": [
    {
     "data": {
      "text/plain": [
       "array([[1. , 2. , 4.6, 3. ],\n",
       "       [4. , 5. , 6. , 8. ]])"
      ]
     },
     "execution_count": 12,
     "metadata": {},
     "output_type": "execute_result"
    }
   ],
   "source": [
    "a2 = np.array([[1,2.0,4.6,3],\n",
    "               [4,5,6.0,8]])\n",
    "a2"
   ]
  },
  {
   "cell_type": "code",
   "execution_count": 28,
   "id": "ef80a7f1-ab50-446b-a06f-d93a19d28598",
   "metadata": {},
   "outputs": [
    {
     "data": {
      "text/plain": [
       "((2, 4), 2, dtype('float64'), 8, numpy.ndarray)"
      ]
     },
     "execution_count": 28,
     "metadata": {},
     "output_type": "execute_result"
    }
   ],
   "source": [
    "a2.shape,a2.ndim,a2.dtype,a2.size,type(a2)"
   ]
  },
  {
   "cell_type": "code",
   "execution_count": 13,
   "id": "05b549b6-8a6a-4de1-b98c-d21cd9d06d66",
   "metadata": {},
   "outputs": [
    {
     "data": {
      "text/plain": [
       "array([[[1. , 2. , 3. , 4. ],\n",
       "        [5. , 6.7, 8. , 5. ],\n",
       "        [9. , 4.5, 3. , 2. ]]])"
      ]
     },
     "execution_count": 13,
     "metadata": {},
     "output_type": "execute_result"
    }
   ],
   "source": [
    "#3 - dimension array\n",
    "a3 = np.array([[[1,2,3,4],\n",
    "                [5,6.7,8.0,5],\n",
    "                [9.0,4.5,3,2]]])\n",
    "a3"
   ]
  },
  {
   "cell_type": "code",
   "execution_count": 29,
   "id": "8c715cb7-54e2-48b8-a4ba-da7129916871",
   "metadata": {},
   "outputs": [
    {
     "data": {
      "text/plain": [
       "((1, 3, 4), 3, dtype('float64'), 12, numpy.ndarray)"
      ]
     },
     "execution_count": 29,
     "metadata": {},
     "output_type": "execute_result"
    }
   ],
   "source": [
    "a3.shape,a3.ndim,a3.dtype,a3.size,type(a3)"
   ]
  },
  {
   "cell_type": "code",
   "execution_count": 14,
   "id": "d3853173-cce3-40d1-a642-b124b3c8c3a3",
   "metadata": {},
   "outputs": [
    {
     "data": {
      "text/plain": [
       "array([1, 2, 3])"
      ]
     },
     "execution_count": 14,
     "metadata": {},
     "output_type": "execute_result"
    }
   ],
   "source": [
    "# creating a simple array\n",
    "simple_array=np.array([1,2,3])\n",
    "simple_array"
   ]
  },
  {
   "cell_type": "code",
   "execution_count": 15,
   "id": "6ac078b3-ebf5-49fa-a86f-aa5db67744ab",
   "metadata": {},
   "outputs": [
    {
     "data": {
      "text/plain": [
       "array([[1., 1.],\n",
       "       [1., 1.],\n",
       "       [1., 1.],\n",
       "       [1., 1.],\n",
       "       [1., 1.],\n",
       "       [1., 1.],\n",
       "       [1., 1.],\n",
       "       [1., 1.],\n",
       "       [1., 1.],\n",
       "       [1., 1.]])"
      ]
     },
     "execution_count": 15,
     "metadata": {},
     "output_type": "execute_result"
    }
   ],
   "source": [
    "#creating an array of ones\n",
    "ones=np.ones((10,2))\n",
    "ones"
   ]
  },
  {
   "cell_type": "code",
   "execution_count": 20,
   "id": "59ed066e-8cc1-4de8-bc3c-c93887365069",
   "metadata": {},
   "outputs": [
    {
     "data": {
      "text/plain": [
       "array([[[0., 0., 0.],\n",
       "        [0., 0., 0.],\n",
       "        [0., 0., 0.]],\n",
       "\n",
       "       [[0., 0., 0.],\n",
       "        [0., 0., 0.],\n",
       "        [0., 0., 0.]],\n",
       "\n",
       "       [[0., 0., 0.],\n",
       "        [0., 0., 0.],\n",
       "        [0., 0., 0.]],\n",
       "\n",
       "       [[0., 0., 0.],\n",
       "        [0., 0., 0.],\n",
       "        [0., 0., 0.]],\n",
       "\n",
       "       [[0., 0., 0.],\n",
       "        [0., 0., 0.],\n",
       "        [0., 0., 0.]]])"
      ]
     },
     "execution_count": 20,
     "metadata": {},
     "output_type": "execute_result"
    }
   ],
   "source": [
    "#create an array of zeros\n",
    "zeros=np.zeros((5,3,3))\n",
    "zeros\n"
   ]
  },
  {
   "cell_type": "code",
   "execution_count": 21,
   "id": "6f62e9d5-eabc-4456-9972-7172658a846e",
   "metadata": {},
   "outputs": [
    {
     "data": {
      "text/plain": [
       "array([0, 2, 4, 6, 8])"
      ]
     },
     "execution_count": 21,
     "metadata": {},
     "output_type": "execute_result"
    }
   ],
   "source": [
    "#create an array within a range of values\n",
    "range_array=np.arange(0,10,2)\n",
    "range_array"
   ]
  },
  {
   "cell_type": "code",
   "execution_count": 22,
   "id": "97579745-942e-4847-aa29-37c21819fb7a",
   "metadata": {},
   "outputs": [
    {
     "data": {
      "text/plain": [
       "array([[5, 6, 2],\n",
       "       [7, 2, 6],\n",
       "       [1, 8, 1],\n",
       "       [9, 1, 7],\n",
       "       [3, 8, 2]])"
      ]
     },
     "execution_count": 22,
     "metadata": {},
     "output_type": "execute_result"
    }
   ],
   "source": [
    "#random array\n",
    "random_array=np.random.randint(10,size=(5,3))\n",
    "random_array"
   ]
  },
  {
   "cell_type": "code",
   "execution_count": 23,
   "id": "04d5acc2-4281-4c4f-b179-3ec5f3040ece",
   "metadata": {},
   "outputs": [
    {
     "data": {
      "text/plain": [
       "array([[0.70430255, 0.95193724, 0.84495528],\n",
       "       [0.86489573, 0.78698164, 0.76759554],\n",
       "       [0.36144374, 0.64406267, 0.2401134 ],\n",
       "       [0.24135706, 0.82024454, 0.29168131],\n",
       "       [0.26042775, 0.02075135, 0.56102913]])"
      ]
     },
     "execution_count": 23,
     "metadata": {},
     "output_type": "execute_result"
    }
   ],
   "source": [
    "#random array of floats (between o &  1)\n",
    "np.random.random((5,3))"
   ]
  },
  {
   "cell_type": "code",
   "execution_count": 24,
   "id": "41e3d685-5c61-44a7-b7e0-b56bc3e88b4f",
   "metadata": {},
   "outputs": [
    {
     "data": {
      "text/plain": [
       "array([[0.50490536, 0.93497741, 0.01443646],\n",
       "       [0.40321157, 0.39962935, 0.20836378],\n",
       "       [0.51363145, 0.66211807, 0.50306619],\n",
       "       [0.9747739 , 0.68218863, 0.82381411],\n",
       "       [0.54756015, 0.43245755, 0.29486876]])"
      ]
     },
     "execution_count": 24,
     "metadata": {},
     "output_type": "execute_result"
    }
   ],
   "source": [
    "np.random.random((5,3))"
   ]
  },
  {
   "cell_type": "code",
   "execution_count": 26,
   "id": "a4b0d595-05fa-42e0-8647-aeba4e9a8c42",
   "metadata": {},
   "outputs": [
    {
     "data": {
      "text/plain": [
       "array([[0.85286559, 0.3147918 , 0.63733206],\n",
       "       [0.55980148, 0.94082907, 0.99020376],\n",
       "       [0.51411563, 0.90560715, 0.55559195],\n",
       "       [0.27438025, 0.86193866, 0.83128018],\n",
       "       [0.97864889, 0.5141657 , 0.54704273]])"
      ]
     },
     "execution_count": 26,
     "metadata": {},
     "output_type": "execute_result"
    }
   ],
   "source": [
    "#random 5*3 array of floats (between 0 & 1),similar to above np.random.rand(5,3)\n",
    "np.random.rand(5,3)"
   ]
  },
  {
   "cell_type": "code",
   "execution_count": 30,
   "id": "3be32e4f-07da-4586-881b-fd8941eb86ed",
   "metadata": {},
   "outputs": [
    {
     "data": {
      "text/plain": [
       "1"
      ]
     },
     "execution_count": 30,
     "metadata": {},
     "output_type": "execute_result"
    }
   ],
   "source": [
    "a1[0]"
   ]
  },
  {
   "cell_type": "code",
   "execution_count": 31,
   "id": "29270419-a5f1-45bf-b589-dbbeeadbe3b0",
   "metadata": {},
   "outputs": [
    {
     "data": {
      "text/plain": [
       "array([1. , 2. , 4.6, 3. ])"
      ]
     },
     "execution_count": 31,
     "metadata": {},
     "output_type": "execute_result"
    }
   ],
   "source": [
    "a2[0]"
   ]
  },
  {
   "cell_type": "code",
   "execution_count": 33,
   "id": "11689da0-52d9-42d2-b579-76f83038448b",
   "metadata": {},
   "outputs": [
    {
     "data": {
      "text/plain": [
       "array([[1. , 2. , 3. , 4. ],\n",
       "       [5. , 6.7, 8. , 5. ],\n",
       "       [9. , 4.5, 3. , 2. ]])"
      ]
     },
     "execution_count": 33,
     "metadata": {},
     "output_type": "execute_result"
    }
   ],
   "source": [
    "a3[0]"
   ]
  },
  {
   "cell_type": "code",
   "execution_count": 34,
   "id": "36a864cf-93c5-49c0-bdd5-e110adcdc3bf",
   "metadata": {},
   "outputs": [
    {
     "data": {
      "text/plain": [
       "array([4., 5., 6., 8.])"
      ]
     },
     "execution_count": 34,
     "metadata": {},
     "output_type": "execute_result"
    }
   ],
   "source": [
    "#get second row( index 1) of a2\n",
    "a2[1]"
   ]
  },
  {
   "cell_type": "code",
   "execution_count": 35,
   "id": "ddf416a2-f86a-478d-999f-b32572332564",
   "metadata": {},
   "outputs": [
    {
     "data": {
      "text/plain": [
       "array([[[1. , 2. ],\n",
       "        [5. , 6.7]]])"
      ]
     },
     "execution_count": 35,
     "metadata": {},
     "output_type": "execute_result"
    }
   ],
   "source": [
    "#get the first 2 values of the first two rows of both arrays\n",
    "a3[:2,:2,:2]"
   ]
  },
  {
   "cell_type": "code",
   "execution_count": 36,
   "id": "66cb3f54-37e6-441d-b0b0-b2dfe492a020",
   "metadata": {},
   "outputs": [
    {
     "data": {
      "text/plain": [
       "array([[[[1, 0, 9, 0, 6],\n",
       "         [4, 7, 8, 6, 0],\n",
       "         [7, 8, 1, 1, 8],\n",
       "         [2, 8, 6, 3, 1]],\n",
       "\n",
       "        [[3, 5, 6, 3, 9],\n",
       "         [0, 0, 5, 4, 3],\n",
       "         [9, 6, 3, 0, 7],\n",
       "         [6, 1, 4, 1, 7]],\n",
       "\n",
       "        [[7, 5, 8, 1, 3],\n",
       "         [2, 7, 6, 0, 0],\n",
       "         [6, 3, 3, 0, 7],\n",
       "         [6, 9, 8, 6, 8]]],\n",
       "\n",
       "\n",
       "       [[[4, 7, 7, 9, 5],\n",
       "         [6, 0, 5, 6, 5],\n",
       "         [7, 9, 7, 4, 6],\n",
       "         [4, 7, 7, 6, 5]],\n",
       "\n",
       "        [[9, 2, 5, 8, 8],\n",
       "         [3, 6, 9, 9, 0],\n",
       "         [8, 2, 1, 1, 5],\n",
       "         [8, 2, 0, 8, 9]],\n",
       "\n",
       "        [[6, 3, 5, 4, 2],\n",
       "         [7, 6, 5, 1, 6],\n",
       "         [6, 8, 1, 4, 3],\n",
       "         [5, 5, 8, 9, 9]]]])"
      ]
     },
     "execution_count": 36,
     "metadata": {},
     "output_type": "execute_result"
    }
   ],
   "source": [
    "a4= np.random.randint(10,size=(2,3,4,5))\n",
    "a4"
   ]
  },
  {
   "cell_type": "code",
   "execution_count": 37,
   "id": "d716ce52-3451-47b6-a02c-4a9db5c9d0f7",
   "metadata": {},
   "outputs": [
    {
     "data": {
      "text/plain": [
       "(2, 3, 4, 5)"
      ]
     },
     "execution_count": 37,
     "metadata": {},
     "output_type": "execute_result"
    }
   ],
   "source": [
    "a4.shape"
   ]
  },
  {
   "cell_type": "code",
   "execution_count": 46,
   "id": "a224ac7e-5a1c-476b-8667-b6d07af9f781",
   "metadata": {},
   "outputs": [
    {
     "data": {
      "text/plain": [
       "6"
      ]
     },
     "execution_count": 46,
     "metadata": {},
     "output_type": "execute_result"
    }
   ],
   "source": [
    "sum(a1)"
   ]
  },
  {
   "cell_type": "code",
   "execution_count": 47,
   "id": "74f267c3-b73f-4209-9f21-bb1a55c0439f",
   "metadata": {},
   "outputs": [
    {
     "data": {
      "text/plain": [
       "53.2"
      ]
     },
     "execution_count": 47,
     "metadata": {},
     "output_type": "execute_result"
    }
   ],
   "source": [
    "np.sum(a3)"
   ]
  },
  {
   "cell_type": "code",
   "execution_count": 48,
   "id": "519f5269-87cb-4bae-ba1b-e08bdcb60b81",
   "metadata": {},
   "outputs": [
    {
     "data": {
      "text/plain": [
       "(100000, numpy.ndarray)"
      ]
     },
     "execution_count": 48,
     "metadata": {},
     "output_type": "execute_result"
    }
   ],
   "source": [
    "massive_array=np.random.random(100000)\n",
    "massive_array.size,type(massive_array)"
   ]
  },
  {
   "cell_type": "code",
   "execution_count": 49,
   "id": "19a5a4b4-8e3d-431d-a95d-bb10d9148398",
   "metadata": {},
   "outputs": [
    {
     "data": {
      "text/plain": [
       "array([0.69991101, 0.68544901, 0.78825204, ..., 0.36901874, 0.09471973,\n",
       "       0.78888388])"
      ]
     },
     "execution_count": 49,
     "metadata": {},
     "output_type": "execute_result"
    }
   ],
   "source": [
    "massive_array"
   ]
  },
  {
   "cell_type": "code",
   "execution_count": 50,
   "id": "502560a9-30ba-480d-9a78-3dc77d40eee5",
   "metadata": {},
   "outputs": [
    {
     "name": "stdout",
     "output_type": "stream",
     "text": [
      "10.3 ms ± 551 µs per loop (mean ± std. dev. of 7 runs, 100 loops each)\n"
     ]
    }
   ],
   "source": [
    "#python sum()\n",
    "%timeit sum(massive_array)"
   ]
  },
  {
   "cell_type": "code",
   "execution_count": 51,
   "id": "3d4578f4-a2ca-412f-8833-cba10f2bacd8",
   "metadata": {},
   "outputs": [
    {
     "name": "stdout",
     "output_type": "stream",
     "text": [
      "58.7 µs ± 445 ns per loop (mean ± std. dev. of 7 runs, 10,000 loops each)\n"
     ]
    }
   ],
   "source": [
    "#numpy np.sum():it is faster\n",
    "%timeit np.sum(massive_array)"
   ]
  },
  {
   "cell_type": "code",
   "execution_count": 52,
   "id": "be85b7e2-94b7-4f1c-8067-623cb81a837a",
   "metadata": {},
   "outputs": [
    {
     "data": {
      "text/plain": [
       "4.2"
      ]
     },
     "execution_count": 52,
     "metadata": {},
     "output_type": "execute_result"
    }
   ],
   "source": [
    "#mean\n",
    "np.mean(a2)"
   ]
  },
  {
   "cell_type": "code",
   "execution_count": 53,
   "id": "96d30099-25bf-4b5b-ba7f-5ccaa67035b1",
   "metadata": {},
   "outputs": [
    {
     "data": {
      "text/plain": [
       "2.0928449536456353"
      ]
     },
     "execution_count": 53,
     "metadata": {},
     "output_type": "execute_result"
    }
   ],
   "source": [
    "# standard deviation\n",
    "np.std(a2)"
   ]
  },
  {
   "cell_type": "code",
   "execution_count": 54,
   "id": "9b013500-d52d-4168-a242-278ca93653c1",
   "metadata": {},
   "outputs": [
    {
     "data": {
      "text/plain": [
       "4.380000000000001"
      ]
     },
     "execution_count": 54,
     "metadata": {},
     "output_type": "execute_result"
    }
   ],
   "source": [
    "#varience\n",
    "np.var(a2)"
   ]
  },
  {
   "cell_type": "code",
   "execution_count": 55,
   "id": "209aa81a-f9d2-4f45-85ca-fe38fbe8bdb4",
   "metadata": {},
   "outputs": [],
   "source": [
    "#demo of varience\n",
    "high_var_array=([1,100,200,4000,5000])\n",
    "low_var_array=([2,4,6,8,10])"
   ]
  },
  {
   "cell_type": "code",
   "execution_count": 56,
   "id": "135ca1cc-18f2-45cb-a3e3-6c173a2d7226",
   "metadata": {},
   "outputs": [
    {
     "data": {
      "text/plain": [
       "(2179.3705880368307, 2.8284271247461903)"
      ]
     },
     "execution_count": 56,
     "metadata": {},
     "output_type": "execute_result"
    }
   ],
   "source": [
    "np.var(high_var_array),np.var(low_var_array)\n",
    "np.std(high_var_array),np.std(low_var_array)\n"
   ]
  },
  {
   "cell_type": "code",
   "execution_count": 59,
   "id": "7a4adfbf-13b0-4e60-a76e-a9464ae42a93",
   "metadata": {},
   "outputs": [
    {
     "data": {
      "text/plain": [
       "2179.3705880368307"
      ]
     },
     "execution_count": 59,
     "metadata": {},
     "output_type": "execute_result"
    }
   ],
   "source": [
    "# the std. deviation is the square root of the varience\n",
    "np.sqrt(np.var(high_var_array))"
   ]
  },
  {
   "cell_type": "code",
   "execution_count": 58,
   "id": "af5731ed-8553-419b-8359-7ea345ad961d",
   "metadata": {},
   "outputs": [
    {
     "data": {
      "image/png": "[encoded data removed]",
      "text/plain": [
       "<Figure size 640x480 with 1 Axes>"
      ]
     },
     "metadata": {},
     "output_type": "display_data"
    }
   ],
   "source": [
    "%matplotlib inline\n",
    "import matplotlib.pyplot as plt\n",
    "plt.hist(high_var_array)\n",
    "plt.show()"
   ]
  },
  {
   "cell_type": "code",
   "execution_count": 75,
   "id": "529f2752-bb18-48a4-911b-c06e5891ed80",
   "metadata": {},
   "outputs": [
    {
     "data": {
      "text/plain": [
       "array([0, 1, 2, 3, 4, 5])"
      ]
     },
     "execution_count": 75,
     "metadata": {},
     "output_type": "execute_result"
    }
   ],
   "source": [
    "a2=np.arange(6)\n",
    "a2"
   ]
  },
  {
   "cell_type": "code",
   "execution_count": null,
   "id": "0ba4f1a3-d9ac-4cc3-94bb-b3d73e86a178",
   "metadata": {},
   "outputs": [],
   "source": [
    "#reshapping"
   ]
  },
  {
   "cell_type": "code",
   "execution_count": 76,
   "id": "875d0942-a986-4126-8254-389bb35329b3",
   "metadata": {},
   "outputs": [
    {
     "data": {
      "text/plain": [
       "array([[0, 1],\n",
       "       [2, 3],\n",
       "       [4, 5]])"
      ]
     },
     "execution_count": 76,
     "metadata": {},
     "output_type": "execute_result"
    }
   ],
   "source": [
    "a2.reshape(3,2)"
   ]
  },
  {
   "cell_type": "code",
   "execution_count": null,
   "id": "3d8ebeb6-1baf-4826-b529-327bd1b63278",
   "metadata": {},
   "outputs": [],
   "source": [
    "#transpose"
   ]
  },
  {
   "cell_type": "code",
   "execution_count": 77,
   "id": "580bcf14-e85f-4031-9a7a-f541724e3e70",
   "metadata": {},
   "outputs": [
    {
     "data": {
      "text/plain": [
       "array([0, 1, 2, 3, 4, 5])"
      ]
     },
     "execution_count": 77,
     "metadata": {},
     "output_type": "execute_result"
    }
   ],
   "source": [
    "a2.transpose()"
   ]
  },
  {
   "cell_type": "code",
   "execution_count": 78,
   "id": "792ac14f-b765-4c8e-a44e-13dffc153c47",
   "metadata": {},
   "outputs": [
    {
     "data": {
      "text/plain": [
       "0"
      ]
     },
     "execution_count": 78,
     "metadata": {},
     "output_type": "execute_result"
    }
   ],
   "source": [
    "#return the indices that would sort an array\n",
    "np.argmin(a1)"
   ]
  },
  {
   "cell_type": "code",
   "execution_count": 80,
   "id": "83d08e76-0625-4415-860d-fc7d3aba46b1",
   "metadata": {},
   "outputs": [
    {
     "data": {
      "text/plain": [
       "array([[5, 6, 2],\n",
       "       [7, 2, 6],\n",
       "       [1, 8, 1],\n",
       "       [9, 1, 7],\n",
       "       [3, 8, 2]])"
      ]
     },
     "execution_count": 80,
     "metadata": {},
     "output_type": "execute_result"
    }
   ],
   "source": [
    "#no axis\n",
    "np.argmin(a1)\n",
    "random_array"
   ]
  },
  {
   "cell_type": "code",
   "execution_count": 81,
   "id": "e4001de0-3670-43b5-8f51-2cce7a633b0f",
   "metadata": {},
   "outputs": [
    {
     "data": {
      "text/plain": [
       "array([1, 0, 1, 0, 1], dtype=int64)"
      ]
     },
     "execution_count": 81,
     "metadata": {},
     "output_type": "execute_result"
    }
   ],
   "source": [
    "#down the vertical\n",
    "np.argmax(random_array,axis=1)"
   ]
  },
  {
   "cell_type": "code",
   "execution_count": 82,
   "id": "268e3996-d88f-4740-9a0c-0b7dbfc11f12",
   "metadata": {},
   "outputs": [
    {
     "data": {
      "text/plain": [
       "array([2, 3, 2], dtype=int64)"
      ]
     },
     "execution_count": 82,
     "metadata": {},
     "output_type": "execute_result"
    }
   ],
   "source": [
    "#across the horizontal\n",
    "np.argmin(random_array,axis=0)"
   ]
  },
  {
   "cell_type": "code",
   "execution_count": null,
   "id": "d8b75fb3-8374-4013-8bf8-1d7ee57b5e65",
   "metadata": {},
   "outputs": [],
   "source": []
  }
 ],
 "metadata": {
  "kernelspec": {
   "display_name": "Python 3 (ipykernel)",
   "language": "python",
   "name": "python3"
  },
  "language_info": {
   "codemirror_mode": {
    "name": "ipython",
    "version": 3
   },
   "file_extension": ".py",
   "mimetype": "text/x-python",
   "name": "python",
   "nbconvert_exporter": "python",
   "pygments_lexer": "ipython3",
   "version": "3.11.7"
  }
 },
 "nbformat": 4,
 "nbformat_minor": 5
}
